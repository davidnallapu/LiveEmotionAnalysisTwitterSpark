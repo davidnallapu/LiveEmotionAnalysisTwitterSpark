{
 "cells": [
  {
   "cell_type": "code",
   "execution_count": 1,
   "metadata": {},
   "outputs": [],
   "source": [
    "import pandas as pd\n",
    "import numpy as np\n",
    "import os\n",
    "os.environ[\"JAVA_HOME\"] = \"/Library/Java/JavaVirtualMachines/adoptopenjdk-8.jdk/Contents/Home\"\n",
    "os.environ[\"PATH\"] = os.environ[\"JAVA_HOME\"] + \"/bin:\" + os.environ[\"PATH\"]\n",
    "import json\n",
    "from pyspark.ml import Pipeline\n",
    "from pyspark.sql import SparkSession\n",
    "import pyspark.sql.functions as F\n",
    "from sparknlp.annotator import *\n",
    "from sparknlp.base import *\n",
    "import sparknlp\n",
    "from sparknlp.pretrained import PretrainedPipeline\n",
    "import collections\n",
    "import matplotlib.pyplot as plt"
   ]
  },
  {
   "cell_type": "code",
   "execution_count": 2,
   "metadata": {},
   "outputs": [],
   "source": [
    "spark = sparknlp.start()"
   ]
  },
  {
   "cell_type": "code",
   "execution_count": 3,
   "metadata": {},
   "outputs": [],
   "source": [
    "MODEL_NAME='classifierdl_use_emotion'"
   ]
  },
  {
   "cell_type": "code",
   "execution_count": 4,
   "metadata": {},
   "outputs": [
    {
     "name": "stdout",
     "output_type": "stream",
     "text": [
      "tfhub_use download started this may take some time.\n",
      "Approximate size to download 923.7 MB\n",
      "[OK!]\n",
      "classifierdl_use_emotion download started this may take some time.\n",
      "Approximate size to download 21.3 MB\n",
      "[OK!]\n"
     ]
    }
   ],
   "source": [
    "documentAssembler = DocumentAssembler()\\\n",
    "    .setInputCol(\"text\")\\\n",
    "    .setOutputCol(\"document\")\n",
    "    \n",
    "use = UniversalSentenceEncoder.pretrained(name=\"tfhub_use\", lang=\"en\")\\\n",
    " .setInputCols([\"document\"])\\\n",
    " .setOutputCol(\"sentence_embeddings\")\n",
    "\n",
    "\n",
    "sentimentdl = ClassifierDLModel.pretrained(name=MODEL_NAME)\\\n",
    "    .setInputCols([\"sentence_embeddings\"])\\\n",
    "    .setOutputCol(\"sentiment\")\n",
    "\n",
    "nlpPipeline = Pipeline(\n",
    "      stages = [\n",
    "          documentAssembler,\n",
    "          use,\n",
    "          sentimentdl\n",
    "      ])\n"
   ]
  },
  {
   "cell_type": "code",
   "execution_count": 5,
   "metadata": {},
   "outputs": [],
   "source": [
    "def predict_emotion(text_list):\n",
    "    empty_df = spark.createDataFrame([['']]).toDF(\"text\")\n",
    "    pipelineModel = nlpPipeline.fit(empty_df)\n",
    "    df = spark.createDataFrame(pd.DataFrame({\"text\":text_list}))\n",
    "    result = pipelineModel.transform(df)\n",
    "#     result.select(F.explode(F.arrays_zip('document.result', 'sentiment.result')).alias(\"cols\")) \\\n",
    "#     .select(F.expr(\"cols['0']\").alias(\"document\"),\n",
    "#         F.expr(\"cols['1']\").alias(\"sentiment\")).show(truncate=False)\n",
    "    #Getting a list of emotions\n",
    "    emotions = []\n",
    "    for i in result.select(F.collect_list('sentiment')).first()[0]:\n",
    "        emotions.append(str(i[0].result))\n",
    "\n",
    "    #Getting a count of the emotions\n",
    "    \n",
    "    counter=collections.Counter(emotions)\n",
    "    print(counter)\n",
    "    #Visualisation\n",
    "    labels, values = zip(*counter.items())\n",
    "\n",
    "    indexes = np.arange(len(labels))\n",
    "    width = 1\n",
    "    import matplotlib.pyplot as plt\n",
    "    plt.bar(indexes, values, width)\n",
    "    plt.xticks(indexes + width * 0.5, labels)\n",
    "    if(len(text_list)%10==0):\n",
    "        plt.show()\n",
    "\n",
    "    "
   ]
  },
  {
   "cell_type": "code",
   "execution_count": null,
   "metadata": {},
   "outputs": [
    {
     "name": "stdout",
     "output_type": "stream",
     "text": [
      "Counter({'fear': 1})\n",
      "Counter({'fear': 1, 'joy': 1})\n",
      "Counter({'fear': 1, 'joy': 1, 'surprise': 1})\n",
      "Counter({'joy': 2, 'fear': 1, 'surprise': 1})\n",
      "Counter({'joy': 2, 'surprise': 2, 'fear': 1})\n",
      "Counter({'surprise': 3, 'joy': 2, 'fear': 1})\n",
      "Counter({'joy': 3, 'surprise': 3, 'fear': 1})\n",
      "Counter({'joy': 4, 'surprise': 3, 'fear': 1})\n",
      "Counter({'joy': 5, 'surprise': 3, 'fear': 1})\n",
      "Counter({'joy': 6, 'surprise': 3, 'fear': 1})\n"
     ]
    },
    {
     "data": {
      "image/png": "[encoded data removed]",
      "text/plain": [
       "<Figure size 432x288 with 1 Axes>"
      ]
     },
     "metadata": {
      "needs_background": "light"
     },
     "output_type": "display_data"
    },
    {
     "name": "stdout",
     "output_type": "stream",
     "text": [
      "Counter({'joy': 7, 'surprise': 3, 'fear': 1})\n",
      "Counter({'joy': 8, 'surprise': 3, 'fear': 1})\n",
      "Counter({'joy': 9, 'surprise': 3, 'fear': 1})\n",
      "Counter({'joy': 10, 'surprise': 3, 'fear': 1})\n",
      "Counter({'joy': 11, 'surprise': 3, 'fear': 1})\n",
      "Counter({'joy': 12, 'surprise': 3, 'fear': 1})\n",
      "Counter({'joy': 12, 'surprise': 4, 'fear': 1})\n",
      "Counter({'joy': 12, 'surprise': 4, 'fear': 1, 'sadness': 1})\n",
      "Counter({'joy': 12, 'surprise': 5, 'fear': 1, 'sadness': 1})\n",
      "Counter({'joy': 13, 'surprise': 5, 'fear': 1, 'sadness': 1})\n"
     ]
    },
    {
     "data": {
      "image/png": "[encoded data removed]",
      "text/plain": [
       "<Figure size 432x288 with 1 Axes>"
      ]
     },
     "metadata": {
      "needs_background": "light"
     },
     "output_type": "display_data"
    },
    {
     "name": "stdout",
     "output_type": "stream",
     "text": [
      "Counter({'joy': 14, 'surprise': 5, 'fear': 1, 'sadness': 1})\n",
      "Counter({'joy': 14, 'surprise': 5, 'fear': 2, 'sadness': 1})\n",
      "Counter({'joy': 15, 'surprise': 5, 'fear': 2, 'sadness': 1})\n",
      "Counter({'joy': 15, 'surprise': 5, 'fear': 2, 'sadness': 2})\n",
      "Counter({'joy': 16, 'surprise': 5, 'fear': 2, 'sadness': 2})\n",
      "Counter({'joy': 16, 'surprise': 5, 'sadness': 3, 'fear': 2})\n",
      "Counter({'joy': 17, 'surprise': 5, 'sadness': 3, 'fear': 2})\n",
      "Counter({'joy': 18, 'surprise': 5, 'sadness': 3, 'fear': 2})\n",
      "Counter({'joy': 19, 'surprise': 5, 'sadness': 3, 'fear': 2})\n",
      "Counter({'joy': 19, 'surprise': 5, 'sadness': 4, 'fear': 2})\n"
     ]
    },
    {
     "data": {
      "image/png": "[encoded data removed]",
      "text/plain": [
       "<Figure size 432x288 with 1 Axes>"
      ]
     },
     "metadata": {
      "needs_background": "light"
     },
     "output_type": "display_data"
    },
    {
     "name": "stdout",
     "output_type": "stream",
     "text": [
      "Counter({'joy': 20, 'surprise': 5, 'sadness': 4, 'fear': 2})\n",
      "Counter({'joy': 20, 'surprise': 6, 'sadness': 4, 'fear': 2})\n",
      "Counter({'joy': 21, 'surprise': 6, 'sadness': 4, 'fear': 2})\n",
      "Counter({'joy': 21, 'surprise': 6, 'sadness': 5, 'fear': 2})\n",
      "Counter({'joy': 22, 'surprise': 6, 'sadness': 5, 'fear': 2})\n",
      "Counter({'joy': 23, 'surprise': 6, 'sadness': 5, 'fear': 2})\n",
      "Counter({'joy': 23, 'surprise': 6, 'sadness': 6, 'fear': 2})\n",
      "Counter({'joy': 24, 'surprise': 6, 'sadness': 6, 'fear': 2})\n",
      "Counter({'joy': 25, 'surprise': 6, 'sadness': 6, 'fear': 2})\n",
      "Counter({'joy': 26, 'surprise': 6, 'sadness': 6, 'fear': 2})\n"
     ]
    },
    {
     "data": {
      "image/png": "[encoded data removed]",
      "text/plain": [
       "<Figure size 432x288 with 1 Axes>"
      ]
     },
     "metadata": {
      "needs_background": "light"
     },
     "output_type": "display_data"
    },
    {
     "name": "stdout",
     "output_type": "stream",
     "text": [
      "Counter({'joy': 27, 'surprise': 6, 'sadness': 6, 'fear': 2})\n",
      "Counter({'joy': 27, 'sadness': 7, 'surprise': 6, 'fear': 2})\n",
      "Counter({'joy': 28, 'sadness': 7, 'surprise': 6, 'fear': 2})\n",
      "Counter({'joy': 29, 'sadness': 7, 'surprise': 6, 'fear': 2})\n",
      "Counter({'joy': 30, 'sadness': 7, 'surprise': 6, 'fear': 2})\n",
      "Counter({'joy': 30, 'sadness': 8, 'surprise': 6, 'fear': 2})\n",
      "Counter({'joy': 30, 'sadness': 8, 'surprise': 7, 'fear': 2})\n",
      "Counter({'joy': 30, 'sadness': 9, 'surprise': 7, 'fear': 2})\n",
      "Counter({'joy': 31, 'sadness': 9, 'surprise': 7, 'fear': 2})\n",
      "Counter({'joy': 31, 'sadness': 10, 'surprise': 7, 'fear': 2})\n"
     ]
    },
    {
     "data": {
      "image/png": "[encoded data removed]",
      "text/plain": [
       "<Figure size 432x288 with 1 Axes>"
      ]
     },
     "metadata": {
      "needs_background": "light"
     },
     "output_type": "display_data"
    },
    {
     "name": "stdout",
     "output_type": "stream",
     "text": [
      "Counter({'joy': 32, 'sadness': 10, 'surprise': 7, 'fear': 2})\n",
      "Counter({'joy': 32, 'sadness': 11, 'surprise': 7, 'fear': 2})\n",
      "Counter({'joy': 33, 'sadness': 11, 'surprise': 7, 'fear': 2})\n",
      "Counter({'joy': 34, 'sadness': 11, 'surprise': 7, 'fear': 2})\n",
      "Counter({'joy': 35, 'sadness': 11, 'surprise': 7, 'fear': 2})\n",
      "Counter({'joy': 36, 'sadness': 11, 'surprise': 7, 'fear': 2})\n",
      "Counter({'joy': 37, 'sadness': 11, 'surprise': 7, 'fear': 2})\n",
      "Counter({'joy': 38, 'sadness': 11, 'surprise': 7, 'fear': 2})\n",
      "Counter({'joy': 38, 'sadness': 12, 'surprise': 7, 'fear': 2})\n",
      "Counter({'joy': 38, 'sadness': 13, 'surprise': 7, 'fear': 2})\n"
     ]
    },
    {
     "data": {
      "image/png": "[encoded data removed]",
      "text/plain": [
       "<Figure size 432x288 with 1 Axes>"
      ]
     },
     "metadata": {
      "needs_background": "light"
     },
     "output_type": "display_data"
    },
    {
     "name": "stdout",
     "output_type": "stream",
     "text": [
      "Counter({'joy': 38, 'sadness': 14, 'surprise': 7, 'fear': 2})\n",
      "Counter({'joy': 39, 'sadness': 14, 'surprise': 7, 'fear': 2})\n",
      "Counter({'joy': 39, 'sadness': 15, 'surprise': 7, 'fear': 2})\n",
      "Counter({'joy': 40, 'sadness': 15, 'surprise': 7, 'fear': 2})\n",
      "Counter({'joy': 41, 'sadness': 15, 'surprise': 7, 'fear': 2})\n",
      "Counter({'joy': 42, 'sadness': 15, 'surprise': 7, 'fear': 2})\n",
      "Counter({'joy': 42, 'sadness': 16, 'surprise': 7, 'fear': 2})\n",
      "Counter({'joy': 43, 'sadness': 16, 'surprise': 7, 'fear': 2})\n",
      "Counter({'joy': 43, 'sadness': 17, 'surprise': 7, 'fear': 2})\n",
      "Counter({'joy': 43, 'sadness': 17, 'surprise': 8, 'fear': 2})\n"
     ]
    },
    {
     "data": {
      "image/png": "[encoded data removed]",
      "text/plain": [
       "<Figure size 432x288 with 1 Axes>"
      ]
     },
     "metadata": {
      "needs_background": "light"
     },
     "output_type": "display_data"
    },
    {
     "name": "stdout",
     "output_type": "stream",
     "text": [
      "Counter({'joy': 43, 'sadness': 17, 'surprise': 9, 'fear': 2})\n",
      "Counter({'joy': 44, 'sadness': 17, 'surprise': 9, 'fear': 2})\n",
      "Counter({'joy': 44, 'sadness': 18, 'surprise': 9, 'fear': 2})\n",
      "Counter({'joy': 44, 'sadness': 19, 'surprise': 9, 'fear': 2})\n",
      "Counter({'joy': 45, 'sadness': 19, 'surprise': 9, 'fear': 2})\n",
      "Counter({'joy': 46, 'sadness': 19, 'surprise': 9, 'fear': 2})\n",
      "Counter({'joy': 46, 'sadness': 19, 'surprise': 10, 'fear': 2})\n",
      "Counter({'joy': 47, 'sadness': 19, 'surprise': 10, 'fear': 2})\n",
      "Counter({'joy': 48, 'sadness': 19, 'surprise': 10, 'fear': 2})\n",
      "Counter({'joy': 49, 'sadness': 19, 'surprise': 10, 'fear': 2})\n"
     ]
    },
    {
     "data": {
      "image/png": "[encoded data removed]",
      "text/plain": [
       "<Figure size 432x288 with 1 Axes>"
      ]
     },
     "metadata": {
      "needs_background": "light"
     },
     "output_type": "display_data"
    },
    {
     "name": "stdout",
     "output_type": "stream",
     "text": [
      "Counter({'joy': 49, 'sadness': 20, 'surprise': 10, 'fear': 2})\n",
      "Counter({'joy': 50, 'sadness': 20, 'surprise': 10, 'fear': 2})\n",
      "Counter({'joy': 50, 'sadness': 20, 'surprise': 10, 'fear': 3})\n",
      "Counter({'joy': 50, 'sadness': 20, 'surprise': 10, 'fear': 4})\n",
      "Counter({'joy': 50, 'sadness': 21, 'surprise': 10, 'fear': 4})\n",
      "Counter({'joy': 51, 'sadness': 21, 'surprise': 10, 'fear': 4})\n",
      "Counter({'joy': 51, 'sadness': 22, 'surprise': 10, 'fear': 4})\n",
      "Counter({'joy': 52, 'sadness': 22, 'surprise': 10, 'fear': 4})\n",
      "Counter({'joy': 53, 'sadness': 22, 'surprise': 10, 'fear': 4})\n",
      "Counter({'joy': 54, 'sadness': 22, 'surprise': 10, 'fear': 4})\n"
     ]
    },
    {
     "data": {
      "image/png": "[encoded data removed]",
      "text/plain": [
       "<Figure size 432x288 with 1 Axes>"
      ]
     },
     "metadata": {
      "needs_background": "light"
     },
     "output_type": "display_data"
    },
    {
     "name": "stdout",
     "output_type": "stream",
     "text": [
      "Counter({'joy': 54, 'sadness': 23, 'surprise': 10, 'fear': 4})\n",
      "Counter({'joy': 54, 'sadness': 23, 'surprise': 11, 'fear': 4})\n",
      "Counter({'joy': 54, 'sadness': 24, 'surprise': 11, 'fear': 4})\n",
      "Counter({'joy': 55, 'sadness': 24, 'surprise': 11, 'fear': 4})\n",
      "Counter({'joy': 55, 'sadness': 24, 'surprise': 12, 'fear': 4})\n",
      "Counter({'joy': 55, 'sadness': 24, 'surprise': 13, 'fear': 4})\n",
      "Counter({'joy': 56, 'sadness': 24, 'surprise': 13, 'fear': 4})\n",
      "Counter({'joy': 57, 'sadness': 24, 'surprise': 13, 'fear': 4})\n",
      "Counter({'joy': 58, 'sadness': 24, 'surprise': 13, 'fear': 4})\n"
     ]
    }
   ],
   "source": [
    "import time\n",
    "import os\n",
    "import re\n",
    "\n",
    "text_list = []\n",
    "def follow(thefile):\n",
    "    '''generator function that yields new lines in a file\n",
    "    '''\n",
    "    # seek the end of the file\n",
    "    thefile.seek(0, os.SEEK_END)\n",
    "    \n",
    "    # start infinite loop\n",
    "    while True:\n",
    "        # read last line of file\n",
    "        line = thefile.readline()\n",
    "        # sleep if file hasn't been updated\n",
    "        if not line:\n",
    "            time.sleep(0.1)\n",
    "            continue\n",
    "        yield line\n",
    "\n",
    "    \n",
    "        \n",
    "        \n",
    "if __name__ == '__main__':\n",
    "    logfile = open(\"tweets.txt\",\"r\")\n",
    "    loglines = follow(logfile)\n",
    "    \n",
    "    # iterate over the generator\n",
    "    for s in loglines:\n",
    "        re.sub(\"\\S*\\d\\S*\", \"\", s).strip()\n",
    "        tokens = s.strip().split()\n",
    "        clean_tokens = [t for t in tokens if re.match(r'[^\\W\\d]*$', t)]\n",
    "        clean_s = ' '.join(clean_tokens)\n",
    "        \n",
    "        if(len(clean_s.split(' '))>1):\n",
    "            text_list.append(clean_s)\n",
    "            predict_emotion(text_list)\n",
    "            "
   ]
  },
  {
   "cell_type": "code",
   "execution_count": null,
   "metadata": {},
   "outputs": [],
   "source": []
  }
 ],
 "metadata": {
  "kernelspec": {
   "display_name": "Python 3",
   "language": "python",
   "name": "python3"
  },
  "language_info": {
   "codemirror_mode": {
    "name": "ipython",
    "version": 3
   },
   "file_extension": ".py",
   "mimetype": "text/x-python",
   "name": "python",
   "nbconvert_exporter": "python",
   "pygments_lexer": "ipython3",
   "version": "3.7.7"
  }
 },
 "nbformat": 4,
 "nbformat_minor": 4
}
